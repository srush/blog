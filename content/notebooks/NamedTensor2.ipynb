{
 "cells": [
  {
   "cell_type": "markdown",
   "metadata": {},
   "source": [
    "*Alexander Rush @harvardnlp*"
   ]
  },
  {
   "cell_type": "markdown",
   "metadata": {
    "colab_type": "text",
    "id": "view-in-github"
   },
   "source": [
    "<a href=\"https://colab.research.google.com/github/harvardnlp/namedtensor/blob/master/notebooks/NamedTensor2.ipynb\" target=\"_parent\"><img src=\"https://colab.research.google.com/assets/colab-badge.svg\" alt=\"Open In Colab\"/></a>"
   ]
  },
  {
   "cell_type": "markdown",
   "metadata": {
    "colab_type": "text",
    "id": "c4Cgw-teJCj4"
   },
   "source": [
    "*TL;DR: The previous post [Tensor Considered Harmful](http://nlp.seas.harvard.edu/NamedTensor) called for using **named tensors** to remedy some of the issues with the ubiquitous Tensor object. The post sparked significant conversation about whether this was a useful technique or would simply litter code unnecessary annotations. This follow-up considers the use of named tensors in real-world deep learning code. This post takes a more pragmatic tack, and examines two methods for integrating named tensors into the current deep learning ecosystem. As before all the code is available in the **PyTorch library** accompanying this blog post is available as [namedtensor](https://github.com/harvardnlp/NamedTensor) which has been significantly changed based on ideas from [twitter](https://twitter.com/harvardnlp/status/1080911225427496966) / [reddit](https://www.reddit.com/r/MachineLearning/comments/accmek/d_tensor_considered_harmful_a_polemic_against/) comments.*"
   ]
  },
  {
   "cell_type": "markdown",
   "metadata": {},
   "source": [
    "\n",
    "* Table of Contents                                                                                                                                                                                             \n",
    "{:toc}"
   ]
  },
  {
   "cell_type": "markdown",
   "metadata": {},
   "source": [
    "`Changelog`\n",
    "\n",
    "* Stephen Hoyer suggested several useful changes to this post which makes the syntax much clearer."
   ]
  },
  {
   "cell_type": "markdown",
   "metadata": {
    "colab_type": "text",
    "id": "N8bXY8bwJH2p"
   },
   "source": [
    "# Named Tensors for Deep Learning"
   ]
  },
  {
   "cell_type": "markdown",
   "metadata": {
    "colab_type": "text",
    "id": "MRcxYeRhKvuR"
   },
   "source": [
    "The previous post  [Tensor Considered Harmful](http://nlp.seas.harvard.edu/NamedTensor) proposes that many of the core usability issues in deep learning frameworks come from manipulating and aligning tensor objects. It shows this by playing aroung with some toy tensor examples.\n",
    "\n",
    "However, in hindsight, this was cheating. To actually use *named tensors* we need to interact with the ecosystem at large. The entire of richness of PyTorch is its libraries, which like it or not, are written with a tuple-based calling convention. If we want to write real software in real environments, it is not sufficient to simply show that naming is useful, it has be usable with the current functionality. \n",
    "\n",
    "**The Challenge**: How can we *lift* deep learning systems in a pragmatic manner so that they preserve the the semantics of *named tensors*?\n",
    "\n",
    "I do not have the correct answer to this question. But in this post, I will consider two methods: explicit annotations and lifting the library. \n",
    "\n"
   ]
  },
  {
   "cell_type": "code",
   "execution_count": 1,
   "metadata": {
    "colab": {},
    "colab_type": "code",
    "id": "tbVbO9XqLjUH"
   },
   "outputs": [],
   "source": [
    "#@title Setup\n",
    "#!rm -fr NamedTensor/; git clone -q https://github.com/harvardnlp/NamedTensor.git\n",
    "#!cd NamedTensor; pip install -q .; pip install -q torch numpy opt_einsum\n",
    "#!cp NamedTensor/notebooks/test* . \n"
   ]
  },
  {
   "cell_type": "code",
   "execution_count": 2,
   "metadata": {
    "colab": {},
    "colab_type": "code",
    "id": "CjJ7nfuOKoDZ"
   },
   "outputs": [],
   "source": [
    "import numpy \n",
    "import torch\n",
    "import torch.nn as nn\n",
    "import torch.nn.functional as F\n",
    "from namedtensor import NamedTensor, ntorch\n",
    "from namedtensor import _im_init\n",
    "_im_init()"
   ]
  },
  {
   "cell_type": "markdown",
   "metadata": {
    "colab_type": "text",
    "id": "hOKV4XKnM9eQ"
   },
   "source": [
    "## Method 1: Name Annotations"
   ]
  },
  {
   "cell_type": "markdown",
   "metadata": {
    "colab_type": "text",
    "id": "Zl9Cu2O7OFMF"
   },
   "source": [
    "In PyTorch, the standard deep learning library lives in the `nn` module. This library contains bindings to all the useful functions that make up neural networks. To use them we pass around and manipulate tensor objects. Here are two mini modules:"
   ]
  },
  {
   "cell_type": "code",
   "execution_count": 3,
   "metadata": {
    "colab": {
     "base_uri": "https://localhost:8080/",
     "height": 33
    },
    "colab_type": "code",
    "id": "uTNXzuh6NjtC",
    "outputId": "dd10612c-1f57-47c3-fe06-c7c6d69ecadf"
   },
   "outputs": [
    {
     "data": {
      "text/plain": [
       "Linear(in_features=3, out_features=1, bias=True)"
      ]
     },
     "execution_count": 3,
     "metadata": {},
     "output_type": "execute_result"
    }
   ],
   "source": [
    "relu = nn.ReLU()\n",
    "linear = nn.Linear(3, 1)\n",
    "linear "
   ]
  },
  {
   "cell_type": "markdown",
   "metadata": {
    "colab_type": "text",
    "id": "soq37Om-O8yB"
   },
   "source": [
    "The API for these modules is specified through the shape of the tensors passed. For instance for \"relu\" we see that this keeps the size the same as the original. \n"
   ]
  },
  {
   "cell_type": "code",
   "execution_count": 4,
   "metadata": {
    "colab": {
     "base_uri": "https://localhost:8080/",
     "height": 233
    },
    "colab_type": "code",
    "id": "hmByabHoPz_O",
    "outputId": "ad58cd8a-680b-4448-9db0-448eaacbabf4"
   },
   "outputs": [
    {
     "name": "stdout",
     "output_type": "stream",
     "text": [
      "Applies the rectified linear unit function element-wise\n",
      "    :math:`\\text{ReLU}(x)= \\max(0, x)`\n",
      "\n",
      "    .. image:: scripts/activation_images/ReLU.png\n",
      "\n",
      "    Args:\n",
      "        inplace: can optionally do the operation in-place. Default: ``False``\n",
      "\n",
      "    Shape:\n",
      "        - Input: :math:`(N, *)` where `*` means, any number of additional\n",
      "          dimensions\n",
      "        - Output: :math:`(N, *)`, same shape as the input\n",
      "\n"
     ]
    }
   ],
   "source": [
    "print(\"\\n\".join(relu.__doc__.split(\"\\n\")[:13]))"
   ]
  },
  {
   "cell_type": "markdown",
   "metadata": {
    "colab_type": "text",
    "id": "vv0aCWRePzdK"
   },
   "source": [
    "On the other hand if we look at the linear object we can see that it takes as input something of the form \"(N, \\*, in_features)\" and outputs something of the form  \"(N, \\*, out_features)\""
   ]
  },
  {
   "cell_type": "code",
   "execution_count": 5,
   "metadata": {
    "colab": {
     "base_uri": "https://localhost:8080/",
     "height": 250
    },
    "colab_type": "code",
    "id": "QBGUmcR-PHSE",
    "outputId": "d6a3e21c-482a-48c6-8b32-debadbeac8a7"
   },
   "outputs": [
    {
     "name": "stdout",
     "output_type": "stream",
     "text": [
      "Applies a linear transformation to the incoming data: :math:`y = xA^T + b`\n",
      "\n",
      "    Args:\n",
      "        in_features: size of each input sample\n",
      "        out_features: size of each output sample\n",
      "        bias: If set to False, the layer will not learn an additive bias.\n",
      "            Default: ``True``\n",
      "\n",
      "    Shape:\n",
      "        - Input: :math:`(N, *, \\text{in\\_features})` where :math:`*` means any number of\n",
      "          additional dimensions\n",
      "        - Output: :math:`(N, *, \\text{out\\_features})` where all but the last dimension\n",
      "          are the same shape as the input.\n",
      "\n"
     ]
    }
   ],
   "source": [
    "print(\"\\n\".join(linear.__doc__.split(\"\\n\")[:14]))"
   ]
  },
  {
   "cell_type": "markdown",
   "metadata": {
    "colab_type": "text",
    "id": "t2xeaxkqQosU"
   },
   "source": [
    "This gives a rough sense of the API. Now let's try this out with our images. "
   ]
  },
  {
   "cell_type": "code",
   "execution_count": 6,
   "metadata": {
    "colab": {
     "base_uri": "https://localhost:8080/",
     "height": 112
    },
    "colab_type": "code",
    "id": "JO9Y74AwN9Cd",
    "outputId": "ffab85d5-0eae-4b5b-d975-f4427b70918b"
   },
   "outputs": [
    {
     "data": {
      "image/png": "[encoded data removed]",
      "text/plain": []
     },
     "execution_count": 6,
     "metadata": {},
     "output_type": "execute_result"
    }
   ],
   "source": [
    "ims = torch.tensor(numpy.load('test_images.npy'), requires_grad=False).float()\n",
    "ims = NamedTensor(ims, (\"b\", \"h\", \"w\", \"c\"))\n",
    "first = ims.get(\"b\", 0)\n",
    "first"
   ]
  },
  {
   "cell_type": "markdown",
   "metadata": {},
   "source": [
    "The standard non-named way is to call these directly."
   ]
  },
  {
   "cell_type": "code",
   "execution_count": 7,
   "metadata": {
    "colab": {
     "base_uri": "https://localhost:8080/",
     "height": 112
    },
    "colab_type": "code",
    "id": "FoWb4_O9QsD8",
    "outputId": "bb759962-c18e-43a5-9fd2-2a80b1cda2ab"
   },
   "outputs": [
    {
     "data": {
      "image/png": "[encoded data removed]",
      "text/plain": []
     },
     "execution_count": 7,
     "metadata": {},
     "output_type": "execute_result"
    }
   ],
   "source": [
    "relu(first.values.sub(0.5)).add(0.5)"
   ]
  },
  {
   "cell_type": "markdown",
   "metadata": {
    "colab_type": "text",
    "id": "iehPrdWRRu2S"
   },
   "source": [
    "Our approach is going to instead explicitly chain the operation through the `op` method. This method takes in an function that acts on the raw tensor. \n",
    "\n",
    "In this case of relu, it is pretty boring it just applies the function directly. "
   ]
  },
  {
   "cell_type": "code",
   "execution_count": 8,
   "metadata": {
    "colab": {
     "base_uri": "https://localhost:8080/",
     "height": 112
    },
    "colab_type": "code",
    "id": "A5P42JjxRl7B",
    "outputId": "93b5916b-a64d-4a6a-f15d-e1962a641def"
   },
   "outputs": [
    {
     "data": {
      "image/png": "[encoded data removed]",
      "text/plain": []
     },
     "execution_count": 8,
     "metadata": {},
     "output_type": "execute_result"
    }
   ],
   "source": [
    "first.sub(0.5).op(lambda x: relu(x)).add(0.5)\n",
    "\n",
    "# or \n",
    "\n",
    "first.sub(0.5).op(relu).add(0.5)"
   ]
  },
  {
   "cell_type": "markdown",
   "metadata": {
    "colab_type": "text",
    "id": "jCFrGX9hSR0-"
   },
   "source": [
    "Things get more interesting when we apply `linear`. This operation changes the size of the last dimension. If we try to do this we get an error. To do it right, we need to supply a new name."
   ]
  },
  {
   "cell_type": "code",
   "execution_count": 9,
   "metadata": {
    "colab": {
     "base_uri": "https://localhost:8080/",
     "height": 33
    },
    "colab_type": "code",
    "id": "7KKRxMYcSQeO",
    "outputId": "a756313b-954e-4b69-e290-5c8cc4741291"
   },
   "outputs": [],
   "source": [
    "try:\n",
    "    first.op(linear)\n",
    "except AssertionError:\n",
    "    print(\"Failed to apply linear op.\")"
   ]
  },
  {
   "cell_type": "code",
   "execution_count": 10,
   "metadata": {
    "colab": {
     "base_uri": "https://localhost:8080/",
     "height": 112
    },
    "colab_type": "code",
    "id": "Ct00g3tHSstg",
    "outputId": "180108d3-bc7b-4ab1-ecf0-b3245e42a81f"
   },
   "outputs": [
    {
     "data": {
      "image/png": "[encoded data removed]",
      "text/plain": []
     },
     "execution_count": 10,
     "metadata": {},
     "output_type": "execute_result"
    }
   ],
   "source": [
    "first.op(linear, c2=\"c\").get(\"c2\", 0)"
   ]
  },
  {
   "cell_type": "markdown",
   "metadata": {
    "colab_type": "text",
    "id": "SfBZBjZYTZ-8"
   },
   "source": [
    "I say this approach is pragmatic, because it still requires us to give the correct ordering to all the pytorch modules, and to give new names. This can be a bit annoying, but I would argue it makes for more readable and safer code. \n",
    "\n",
    "For instance if we look at the shape of the Conv2d module we see that it expects channel first and changes three dimensions.   "
   ]
  },
  {
   "cell_type": "code",
   "execution_count": 11,
   "metadata": {
    "colab": {
     "base_uri": "https://localhost:8080/",
     "height": 183
    },
    "colab_type": "code",
    "id": "CMKbst0_U3Id",
    "outputId": "f23c30ad-bd2b-469f-dc9a-060ca58ac1e1"
   },
   "outputs": [
    {
     "name": "stdout",
     "output_type": "stream",
     "text": [
      "    Shape:\n",
      "        - Input: :math:`(N, C_{in}, H_{in}, W_{in})`\n",
      "        - Output: :math:`(N, C_{out}, H_{out}, W_{out})` where\n",
      "\n",
      "          .. math::\n",
      "              H_{out} = \\left\\lfloor\\frac{H_{in}  + 2 \\times \\text{padding}[0] - \\text{dilation}[0]\n",
      "                        \\times (\\text{kernel\\_size}[0] - 1) - 1}{\\text{stride}[0]} + 1\\right\\rfloor\n",
      "\n",
      "          .. math::\n",
      "              W_{out} = \\left\\lfloor\\frac{W_{in}  + 2 \\times \\text{padding}[1] - \\text{dilation}[1]\n"
     ]
    }
   ],
   "source": [
    "conv = nn.Conv2d(3, 3, 2)\n",
    "print(\"\\n\".join(conv.__doc__.split(\"\\n\")[75:85]))"
   ]
  },
  {
   "cell_type": "code",
   "execution_count": 12,
   "metadata": {
    "colab": {
     "base_uri": "https://localhost:8080/",
     "height": 112
    },
    "colab_type": "code",
    "id": "VM7oVS-ZThn8",
    "outputId": "bc42d85b-09b1-497e-9be6-c69e70a19156"
   },
   "outputs": [
    {
     "data": {
      "image/png": "[encoded data removed]",
      "text/plain": []
     },
     "execution_count": 12,
     "metadata": {},
     "output_type": "execute_result"
    }
   ],
   "source": [
    "ims.transpose(\"c\", \"h\", \"w\").op(conv, c2=\"c\", h2=\"h\", w2=\"w\") \\\n",
    "   .get(\"b\", 0).transpose(\"h2\", \"w2\", \"c2\")"
   ]
  },
  {
   "cell_type": "markdown",
   "metadata": {
    "colab_type": "text",
    "id": "JZL7KP49VlfQ"
   },
   "source": [
    "The `op` method is the core extension for interacting with \"unsafe\", unnamed PyTorch. We also consider two related methods. The method `reduce` wraps operations that drop a dimension, and the method `augment` wraps operations that add a new dimension. "
   ]
  },
  {
   "cell_type": "code",
   "execution_count": 13,
   "metadata": {
    "colab": {
     "base_uri": "https://localhost:8080/",
     "height": 66
    },
    "colab_type": "code",
    "id": "Eg8A8uAvWLh0",
    "outputId": "6f410fb0-040f-4c1f-e1f3-c839528b4904"
   },
   "outputs": [
    {
     "name": "stderr",
     "output_type": "stream",
     "text": [
      "/usr/local/lib/python3.6/dist-packages/torch/nn/_reduction.py:49: UserWarning: size_average and reduce args will be deprecated, please use reduction='none' instead.\n",
      "  warnings.warn(warning.format(ret))\n"
     ]
    },
    {
     "data": {
      "text/plain": [
       "OrderedDict([('batch', 10)])"
      ]
     },
     "execution_count": 13,
     "metadata": {},
     "output_type": "execute_result"
    }
   ],
   "source": [
    "loss = nn.NLLLoss(reduce=False)\n",
    "output = ntorch.randn(dict(batch=10, classes=20)).softmax(\"classes\")\n",
    "targets = ntorch.ones(dict(batch= 10)).long()\n",
    "l = lambda x: loss(x, targets.values)\n",
    "output.reduce(l, (\"classes\")).shape"
   ]
  },
  {
   "cell_type": "code",
   "execution_count": 14,
   "metadata": {
    "colab": {
     "base_uri": "https://localhost:8080/",
     "height": 33
    },
    "colab_type": "code",
    "id": "dICvPwnLVxJM",
    "outputId": "4adc743b-177b-4948-c76e-1cc7639f1e08"
   },
   "outputs": [
    {
     "data": {
      "text/plain": [
       "OrderedDict([('batch', 10), ('slen', 20), ('embeddingsize', 20)])"
      ]
     },
     "execution_count": 14,
     "metadata": {},
     "output_type": "execute_result"
    }
   ],
   "source": [
    "embedding = nn.Embedding(10, 20)\n",
    "x = ntorch.ones(dict(batch= 10, slen=20)).long()\n",
    "x.augment(embedding, \"embeddingsize\").shape"
   ]
  },
  {
   "cell_type": "markdown",
   "metadata": {
    "colab_type": "text",
    "id": "p90e4iGoXXcl"
   },
   "source": [
    "These methods are really just syntactic sugar on top of the `op` method above, but they make it a bit easier to tell what is happening when you read the code.  "
   ]
  },
  {
   "cell_type": "markdown",
   "metadata": {
    "colab_type": "text",
    "id": "Wg8t1YgSN9aV"
   },
   "source": [
    "## Method 2: Named Everything"
   ]
  },
  {
   "cell_type": "markdown",
   "metadata": {
    "colab_type": "text",
    "id": "83Ry5-q6Xo60"
   },
   "source": [
    "The above approach is relatively general. We want to use the pytorch library so we need to type it on input and output so that we can maintain our labels. Ideally though we can know exactly the names of the dimensions that are being used so that we can propagate them through.\n",
    "\n",
    "Interestingly the PyTorch distributions library is written in such a way to make this possible, so it is fun to see what it looks like as a named library. "
   ]
  },
  {
   "cell_type": "code",
   "execution_count": 18,
   "metadata": {
    "colab": {},
    "colab_type": "code",
    "id": "jF-1750TYGO_"
   },
   "outputs": [],
   "source": [
    "import torch.distributions as distributions\n",
    "import seaborn\n",
    "import matplotlib.pyplot as plt\n",
    "from namedtensor import ndistributions "
   ]
  },
  {
   "cell_type": "markdown",
   "metadata": {
    "colab_type": "text",
    "id": "D9qxnJQkZwBR"
   },
   "source": [
    "First let's make some parameters for a multivariate normal. and make a distribution."
   ]
  },
  {
   "cell_type": "code",
   "execution_count": 19,
   "metadata": {
    "colab": {},
    "colab_type": "code",
    "id": "fLd6xYBqZpHQ"
   },
   "outputs": [],
   "source": [
    "mu = torch.randn(10, 2)\n",
    "Sigma = torch.zeros(10, 2, 2)\n",
    "Sigma[:] = torch.tensor([[1., 0], [0, 1.]])"
   ]
  },
  {
   "cell_type": "code",
   "execution_count": 20,
   "metadata": {
    "colab": {},
    "colab_type": "code",
    "id": "tfNeAPCNYYLh"
   },
   "outputs": [],
   "source": [
    "dist = distributions.MultivariateNormal(mu, Sigma)"
   ]
  },
  {
   "cell_type": "markdown",
   "metadata": {
    "colab_type": "text",
    "id": "K7zaZJpaZ-Ia"
   },
   "source": [
    "Okay, so what happened here? We made a distribution object that has a bunch of different distributions all combined together. This object has two important properties, its batch shape and its event shape. In particular this is a batch of 10 distributions each over with 2D outputs.  "
   ]
  },
  {
   "cell_type": "code",
   "execution_count": 21,
   "metadata": {
    "colab": {
     "base_uri": "https://localhost:8080/",
     "height": 33
    },
    "colab_type": "code",
    "id": "29BXbu3DaOo7",
    "outputId": "7ef889a9-a4f7-49c7-fb59-205f96cfa8dd"
   },
   "outputs": [
    {
     "data": {
      "text/plain": [
       "(torch.Size([10]), torch.Size([2]))"
      ]
     },
     "execution_count": 21,
     "metadata": {},
     "output_type": "execute_result"
    }
   ],
   "source": [
    "dist.batch_shape, dist.event_shape"
   ]
  },
  {
   "cell_type": "markdown",
   "metadata": {
    "colab_type": "text",
    "id": "WkNNg-o0aroG"
   },
   "source": [
    "Now let's say we want to sample from all of these distributions simultaneously. We can do that with this call."
   ]
  },
  {
   "cell_type": "code",
   "execution_count": 22,
   "metadata": {
    "colab": {
     "base_uri": "https://localhost:8080/",
     "height": 33
    },
    "colab_type": "code",
    "id": "sNeoC58XZ2dM",
    "outputId": "684f34c3-0a52-4e50-b473-49579cbeb783"
   },
   "outputs": [
    {
     "data": {
      "text/plain": [
       "torch.Size([20, 30, 10, 2])"
      ]
     },
     "execution_count": 22,
     "metadata": {},
     "output_type": "execute_result"
    }
   ],
   "source": [
    "samples = dist.sample(torch.Size([20, 30]))\n",
    "samples.shape"
   ]
  },
  {
   "cell_type": "markdown",
   "metadata": {
    "colab_type": "text",
    "id": "9CrC0w5da7sv"
   },
   "source": [
    "So now we have an object that is 20x30 samples of a 10 batches each of dim 2. This is nice to have, but we have to keep track of events, batches, samples... It gets hard fast.\n"
   ]
  },
  {
   "cell_type": "markdown",
   "metadata": {
    "colab_type": "text",
    "id": "J4rQopV0bJSs"
   },
   "source": [
    "Let's rewind and try it in named world now."
   ]
  },
  {
   "cell_type": "code",
   "execution_count": 23,
   "metadata": {
    "colab": {},
    "colab_type": "code",
    "id": "j6388OP0a3an"
   },
   "outputs": [],
   "source": [
    "mu = ntorch.randn(dict(dist=10, out=2)).mul(5)\n",
    "Sigma = ntorch.zeros(dict(batch=10, a=2, b=2))\n",
    "Sigma.values[:] = torch.tensor([[1., 0], [0, 1.]])"
   ]
  },
  {
   "cell_type": "code",
   "execution_count": 24,
   "metadata": {
    "colab": {},
    "colab_type": "code",
    "id": "7J4filSIbmXL"
   },
   "outputs": [],
   "source": [
    "dist = ndistributions.MultivariateNormal(mu, Sigma)"
   ]
  },
  {
   "cell_type": "markdown",
   "metadata": {
    "colab_type": "text",
    "id": "e7IY64zmbuI8"
   },
   "source": [
    "We've overridden the shape calls to give us named output now and sample takes in a dict. Should be a bit more clear. "
   ]
  },
  {
   "cell_type": "code",
   "execution_count": 25,
   "metadata": {
    "colab": {
     "base_uri": "https://localhost:8080/",
     "height": 33
    },
    "colab_type": "code",
    "id": "od3acfbHbqzc",
    "outputId": "775e02ca-2f77-4b21-bf9b-319027870e15"
   },
   "outputs": [
    {
     "data": {
      "text/plain": [
       "(OrderedDict([('dist', 10)]), OrderedDict([('out', 2)]))"
      ]
     },
     "execution_count": 25,
     "metadata": {},
     "output_type": "execute_result"
    }
   ],
   "source": [
    "dist.batch_shape, dist.event_shape"
   ]
  },
  {
   "cell_type": "code",
   "execution_count": 26,
   "metadata": {
    "colab": {
     "base_uri": "https://localhost:8080/",
     "height": 33
    },
    "colab_type": "code",
    "id": "lHM4ol8gb2at",
    "outputId": "4a39b0f5-f682-49a1-a1a4-17e69baf8888"
   },
   "outputs": [
    {
     "data": {
      "text/plain": [
       "OrderedDict([('sample1', 20), ('sample2', 30), ('dist', 10), ('out', 2)])"
      ]
     },
     "execution_count": 26,
     "metadata": {},
     "output_type": "execute_result"
    }
   ],
   "source": [
    "samples = dist.sample(sample1=20, sample2=30)\n",
    "samples.shape"
   ]
  },
  {
   "cell_type": "markdown",
   "metadata": {
    "colab_type": "text",
    "id": "OGkY9z3GcER2"
   },
   "source": [
    "Everything is the same as before, except that the distribution propagates our dimension labels through to the end. This really comes in handy when you want to do some plots. Here was enumerate over the samples from each distribution and plot the samples. "
   ]
  },
  {
   "cell_type": "code",
   "execution_count": 27,
   "metadata": {
    "colab": {
     "base_uri": "https://localhost:8080/",
     "height": 346
    },
    "colab_type": "code",
    "id": "FdZwJvomcNFB",
    "outputId": "8c73e41c-cfeb-4c80-f1a1-49dd848188e9"
   },
   "outputs": [
    {
     "data": {
      "image/png": "[encoded data removed]",
      "text/plain": [
       "<Figure size 432x288 with 1 Axes>"
      ]
     },
     "metadata": {
      "needs_background": "light"
     },
     "output_type": "display_data"
    }
   ],
   "source": [
    "for i in range(10):\n",
    "    b = samples.get(\"dist\", i)\n",
    "    plt.scatter(x=b.get(\"out\", 0).values.numpy(),\n",
    "                y=b.get(\"out\", 1).values.numpy())"
   ]
  },
  {
   "cell_type": "markdown",
   "metadata": {
    "colab_type": "text",
    "id": "MbBdjMCYdIh0"
   },
   "source": [
    "# Experiments on Canonical Models"
   ]
  },
  {
   "cell_type": "markdown",
   "metadata": {
    "colab_type": "text",
    "id": "QWjaEcIkdsWQ"
   },
   "source": [
    "Now the question is whether this approach can actually be applied to real deep learning problems. To test this, I went through several of the key deep learning mini-models to see what the code looks like. Honestly, I am not sure I am completely convinced... it looks like a start, but maybe not completely there. "
   ]
  },
  {
   "cell_type": "markdown",
   "metadata": {
    "colab_type": "text",
    "id": "QIAti_LzdkQ4"
   },
   "source": [
    "## MNist"
   ]
  },
  {
   "cell_type": "markdown",
   "metadata": {
    "colab_type": "text",
    "id": "NUedk3MoeVMl"
   },
   "source": [
    "The first example comes from a simple MNist network that is shipped with PyTorch. The full original example is available at [MNist example](https://github.com/pytorch/examples/blob/master/mnist/main.py) and our named example is available [named MNist example](https://github.com/harvardnlp/namedtensor/blob/master/examples/mnist.py). Here we compare two variants, one with standard tensor and the other with named tensor. "
   ]
  },
  {
   "cell_type": "markdown",
   "metadata": {
    "colab_type": "text",
    "id": "WKrefj6co69h"
   },
   "source": [
    "<img src=\"http://deeplearning.net/tutorial/_images/mylenet.png\">"
   ]
  },
  {
   "cell_type": "code",
   "execution_count": 28,
   "metadata": {
    "colab": {},
    "colab_type": "code",
    "id": "JYfsXBsPgBcN"
   },
   "outputs": [],
   "source": [
    "class BaseNet(nn.Module):\n",
    "    def __init__(self):\n",
    "        super(BaseNet, self).__init__()\n",
    "        self.conv1 = nn.Conv2d(1, 20, 5, 1)\n",
    "        self.conv2 = nn.Conv2d(20, 50, 5, 1)\n",
    "        self.fc1 = nn.Linear(4*4*50, 500)\n",
    "        self.fc2 = nn.Linear(500, 10)"
   ]
  },
  {
   "cell_type": "markdown",
   "metadata": {
    "colab_type": "text",
    "id": "ZnOw9PIqgL5W"
   },
   "source": [
    "The standard implementation is here. The code is pretty clean, it is a straight line of applying modules one after the other. The dimensions mostly line up along the way, but perhaps that was decided because this is the most standard example."
   ]
  },
  {
   "cell_type": "code",
   "execution_count": 29,
   "metadata": {
    "colab": {},
    "colab_type": "code",
    "id": "lnsvUWNQdrvo"
   },
   "outputs": [],
   "source": [
    "class StandardCNN(BaseNet):\n",
    "    def forward(self, x):\n",
    "        # batch x c x h x w\n",
    "        x = F.relu(self.conv1(x))\n",
    "        # batch x c1 x h1 x w1\n",
    "        x = F.max_pool2d(x, 2, 2)\n",
    "        # batch x c1 x h1a x w1a\n",
    "        x = F.relu(self.conv2(x))\n",
    "        # batch x c2 x h2 x w2\n",
    "        x = F.max_pool2d(x, 2, 2)\n",
    "        # batch x c2a x h2a x w2a\n",
    "        x = x.view(-1, 4*4*50)\n",
    "        # batch x fc1\n",
    "        x = F.relu(self.fc1(x))\n",
    "        # batch x fc2\n",
    "        x = self.fc2(x)\n",
    "        # batch x classes\n",
    "        return F.log_softmax(x, dim=1)"
   ]
  },
  {
   "cell_type": "markdown",
   "metadata": {
    "colab_type": "text",
    "id": "_ccXVe2sgWa3"
   },
   "source": [
    "Next consider the named version. The code is not necessarily more concise. However it does have some useful differences. Notably\n",
    "\n",
    "*  The `op` will check that changed dimensions get updated along the way, so it is harder to screw up transposes. \n",
    "\n",
    "* Names are in the code, so debugging gives better errors. Furthermore we can add checks like the `assert_size`.\n",
    "\n",
    "* The transpose, view and softmax become nicer in the process. \n"
   ]
  },
  {
   "cell_type": "code",
   "execution_count": 30,
   "metadata": {
    "colab": {},
    "colab_type": "code",
    "id": "ximYT3nRfnWL"
   },
   "outputs": [],
   "source": [
    "class NamedNet(nn.Module):\n",
    "    def forward(self, x):\n",
    "        pool = lambda x: F.max_pool2d(x, 2, 2)\n",
    "\n",
    "        return (\n",
    "            x.transpose(\"c\", \"h\", \"w\")\n",
    "            .op(self.conv1, F.relu)\n",
    "            .assert_size(c2=20) # Just for fun.\n",
    "            .op(pool)\n",
    "            .op(self.conv2, F.relu)\n",
    "            .assert_size(c=50)\n",
    "            .op(pool)\n",
    "            .stack(fc=(\"c\", \"h\", \"w\"))\n",
    "            .op(self.fc1, F.relu)\n",
    "            .op(self.fc2, classes=\"fc\")\n",
    "            .log_softmax(\"classes\")\n",
    "        )"
   ]
  },
  {
   "cell_type": "markdown",
   "metadata": {
    "colab_type": "text",
    "id": "WlCUURTpf0UL"
   },
   "source": [
    "The full implementation uses other aspects of the reduction for the loss and backpropagation."
   ]
  },
  {
   "cell_type": "markdown",
   "metadata": {
    "colab_type": "text",
    "id": "lHIx3IrHdnjP"
   },
   "source": [
    "## Text Classification"
   ]
  },
  {
   "cell_type": "markdown",
   "metadata": {
    "colab_type": "text",
    "id": "N4R5nVMiiCP5"
   },
   "source": [
    "The next example is a standard text classification CNN problem . This example is based on the model from Yoon Kim (2014) in [Convolutional Neural Networks for Sentence Classification\n",
    "](https://arxiv.org/abs/1408.5882).  \n",
    "\n",
    "\n",
    "<img src=\"http://www.wildml.com/wp-content/uploads/2015/11/Screen-Shot-2015-11-06-at-8.03.47-AM.png\">"
   ]
  },
  {
   "cell_type": "markdown",
   "metadata": {
    "colab_type": "text",
    "id": "aRpm_HWtiCno"
   },
   "source": [
    "This is a fun model because it is quite simple and relatively effective (with word embeddings). Notably it was surprisingly annoying to implement in 2015, but nowadays it is just a couple of lines of code. I borrowed the implementation of [Jun Wang](https://github.com/junwang4/CNN-sentence-classification-pytorch-2018) and updated it for a [named tensor version](https://github.com/harvardnlp/namedtensor/blob/master/examples/cnn_kim.py). Both use the same set of parameters."
   ]
  },
  {
   "cell_type": "code",
   "execution_count": 32,
   "metadata": {
    "colab": {},
    "colab_type": "code",
    "id": "zteev8qNdpZ4"
   },
   "outputs": [],
   "source": [
    "class BaseCNN(nn.Module):\n",
    "    def __init__(\n",
    "        self,\n",
    "        kernel_sizes=[3, 4, 5],\n",
    "        num_filters=100,\n",
    "        embedding_dim=300,\n",
    "        pretrained_embeddings=None,\n",
    "    ):\n",
    "        super(BaseCNN, self).__init__()\n",
    "        self.kernel_sizes = kernel_sizes\n",
    "        self.embedding = nn.Embedding(vocab_size, embedding_dim)\n",
    "        self.embedding.weight.data.copy_(\n",
    "            torch.from_numpy(pretrained_embeddings)\n",
    "        )\n",
    "\n",
    "        conv_blocks = []\n",
    "        for kernel_size in kernel_sizes:\n",
    "            conv1d = nn.Conv1d(\n",
    "                in_channels=embedding_dim,\n",
    "                out_channels=num_filters,\n",
    "                kernel_size=kernel_size,\n",
    "                stride=1,\n",
    "            )\n",
    "\n",
    "            conv_blocks.append(conv1d)\n",
    "        self.conv_blocks = nn.ModuleList(conv_blocks)\n",
    "        self.fc = nn.Linear(num_filters * len(kernel_sizes), num_classes)"
   ]
  },
  {
   "cell_type": "markdown",
   "metadata": {
    "colab_type": "text",
    "id": "I40QIEk4j2tr"
   },
   "source": [
    "Here is the standard implementation. Even though this code looks simple, it has all the notable traps including a transpose, cat, view and softmax. "
   ]
  },
  {
   "cell_type": "code",
   "execution_count": 33,
   "metadata": {
    "colab": {},
    "colab_type": "code",
    "id": "EeulYApYjk1K"
   },
   "outputs": [],
   "source": [
    "class StandardCNN(BaseCNN):\n",
    "    def forward(self, x):       # x: (batch, sentence_len)\n",
    "        x = self.embedding(x)   # embedded x: (batch, sentence_len, embedding_dim)\n",
    "\n",
    "\n",
    "        #    input:  (batch, in_channel=1, in_length=sentence_len*embedding_dim),\n",
    "        #    output: (batch, out_channel=num_filters, out_length=sentence_len-...)\n",
    "        x = x.transpose(1,2)  # needs to convert x to (batch, embedding_dim, sentence_len)\n",
    "\n",
    "        x_list= [F.relu(conv_block(x)).max(-1)[0]\n",
    "                 for conv_block in self.conv_blocks]\n",
    "        out = torch.cat(x_list, 2)\n",
    "        out = out.view(out.size(0), -1)\n",
    "        feature_extracted = out\n",
    "        out = F.dropout(out, p=0.5, training=self.training)\n",
    "        return F.softmax(self.fc(out), dim=1), feature_extracted"
   ]
  },
  {
   "cell_type": "markdown",
   "metadata": {
    "colab_type": "text",
    "id": "fF2DMff6kO7-"
   },
   "source": [
    "Contrast this with the named version. We need to use `augment` to handle the extra embedding dimension and \n",
    "add several ops. However as a benefit we get to use names for the transpose, cat, view and softmax. "
   ]
  },
  {
   "cell_type": "code",
   "execution_count": 34,
   "metadata": {
    "colab": {},
    "colab_type": "code",
    "id": "0XcO3aBqkYUG"
   },
   "outputs": [],
   "source": [
    "class NamedCNN(BaseCNN):\n",
    "    def forward(self, x):  # x: (batch, slen)\n",
    "        x = x.augment(self.embedding, \"h\") \\\n",
    "             .transpose(\"h\", \"slen\")\n",
    "\n",
    "        x_list = [x.op(conv_block, F.relu).max(\"slen\")[0]\n",
    "                 for conv_block in self.conv_blocks]\n",
    "        out = ntorch.cat(x_list, \"h\")\n",
    "        \n",
    "        feature_extracted = out\n",
    "        drop = lambda x: F.dropout(x, p=0.5, training=self.training)\n",
    "        out = out.op(drop, self.fc, classes=\"h\") \\\n",
    "                 .softmax(\"classes\") \n",
    "   \n",
    "        return out, feature_extracted"
   ]
  },
  {
   "cell_type": "markdown",
   "metadata": {
    "colab_type": "text",
    "id": "3IObF7DgdpvH"
   },
   "source": [
    "## VAE"
   ]
  },
  {
   "cell_type": "markdown",
   "metadata": {
    "colab_type": "text",
    "id": "OhbuZfXGmIHQ"
   },
   "source": [
    "Finally let's consider a variational autoencoder (VAE). The version we look at is in its simplest form with a feed-forward encoder and decoder. This example is taken from the  [torch examples](https://github.com/pytorch/examples/blob/master/vae/main.py) VAE and updated to a [named vae](https://github.com/harvardnlp/namedtensor/blob/master/examples/vae.py). \n",
    "\n",
    "This example is to mainly show off the use of named distributions as a way propagating forward dimensions. "
   ]
  },
  {
   "cell_type": "markdown",
   "metadata": {
    "colab_type": "text",
    "id": "zyxdslXznzuK"
   },
   "source": [
    "\n",
    "<img src=\"http://ijdykeman.github.io/assets/cvae_figures/vae_diagram.svg\">\n",
    "\n",
    "\n",
    "(diagram from <a href=\"http://ijdykeman.github.io/ml/2016/12/21/cvae.html\">Isaac Dykeman's VAE explainer</a>)\n"
   ]
  },
  {
   "cell_type": "code",
   "execution_count": 35,
   "metadata": {
    "colab": {},
    "colab_type": "code",
    "id": "VnLhZ6THdrE3"
   },
   "outputs": [],
   "source": [
    "class BaseVAE(nn.Module):\n",
    "    def __init__(self, num_samples):\n",
    "        super(BaseVAE, self).__init__()\n",
    "\n",
    "        self.fc1 = nn.Linear(784, 400)\n",
    "        self.fc21 = nn.Linear(400, 20)\n",
    "        self.fc22 = nn.Linear(400, 20)\n",
    "        self.fc3 = nn.Linear(20, 400)\n",
    "        self.fc4 = nn.Linear(400, 784)\n",
    "        self.num_samples = num_samples"
   ]
  },
  {
   "cell_type": "markdown",
   "metadata": {
    "colab_type": "text",
    "id": "BGmycncYolwG"
   },
   "source": [
    "Original code, using distributions for the latent space."
   ]
  },
  {
   "cell_type": "code",
   "execution_count": 37,
   "metadata": {
    "colab": {},
    "colab_type": "code",
    "id": "5J_pMKlAmw70"
   },
   "outputs": [],
   "source": [
    "class StandardVAE(BaseVAE):\n",
    "    def encode(self, x):\n",
    "        h1 = F.relu(self.fc1(x))\n",
    "        return self.fc21(h1), self.fc22(h1)\n",
    "\n",
    "    def reparameterize(self, mu, logvar):\n",
    "        normal = distributions.Normal(mu, logvar.mul(0.5).exp())\n",
    "        return normal.rsample(torch.Size([self.num_samples])), normal\n",
    "        \n",
    "    def decode(self, z):\n",
    "        h3 = F.relu(self.fc3(z))\n",
    "        return torch.sigmoid(self.fc4(h3))\n",
    "\n",
    "    def forward(self, x):\n",
    "        mu, logvar = self.encode(x.view(-1, 784))\n",
    "        z, normal = self.reparameterize(mu, logvar)\n",
    "        return self.decode(z), normal"
   ]
  },
  {
   "cell_type": "markdown",
   "metadata": {
    "colab_type": "text",
    "id": "H7DBGghBorva"
   },
   "source": [
    "Named version. Relatively similar except using named distributions as above to propagate named dimensions through sampling. This can be particularly useful when using multiple samples to backpropagate. "
   ]
  },
  {
   "cell_type": "code",
   "execution_count": 40,
   "metadata": {
    "colab": {},
    "colab_type": "code",
    "id": "4uUpvVi1m6mU"
   },
   "outputs": [],
   "source": [
    "class NamedVAE(BaseVAE):\n",
    "    def encode(self, x):\n",
    "        h1 = x.op(self.fc1, F.relu)\n",
    "        return h1.op(self.fc21, z=\"x\"), h1.op(self.fc22, z=\"x\")\n",
    "\n",
    "    def reparameterize(self, mu, logvar):\n",
    "        normal = ndistributions.Normal(mu, logvar.mul(0.5).exp())\n",
    "        return normal.rsample(samples=self.num_samples), normal\n",
    "\n",
    "    def decode(self, z):\n",
    "        return z.op(self.fc3, F.relu).op(self.fc4, x=\"z\").sigmoid()\n",
    "\n",
    "    def forward(self, x):\n",
    "        mu, logvar = self.encode(x.stack(x=(\"ch\", \"height\", \"width\")))\n",
    "        z, normal = self.reparameterize(mu, logvar)\n",
    "        return self.decode(z), normal"
   ]
  },
  {
   "cell_type": "markdown",
   "metadata": {
    "colab_type": "text",
    "id": "6k4Yo_1gpZkM"
   },
   "source": [
    "# Next Steps"
   ]
  },
  {
   "cell_type": "markdown",
   "metadata": {
    "colab_type": "text",
    "id": "VzdcCqy8pa-8"
   },
   "source": [
    "There was a lot of excellent feedback from the previous post, happy to hear other ideas or pointers to other approaches. I feel like personally this is getting close to a syntax that I would feel comfortable using. However, the chain function call / pseudo-monad style can be a bit off-putting to people, so it is possibly a non-starter. \n",
    "\n",
    "Please let me know on twitter at @harvardnlp or by filing an issue at https://github.com/harvardnlp/namedtensor ."
   ]
  }
 ],
 "metadata": {
  "colab": {
   "collapsed_sections": [],
   "include_colab_link": true,
   "name": "NamedTensor2.ipynb",
   "provenance": [],
   "version": "0.3.2"
  },
  "kernelspec": {
   "display_name": "Python 3",
   "language": "python",
   "name": "python3"
  },
  "language_info": {
   "codemirror_mode": {
    "name": "ipython",
    "version": 3
   },
   "file_extension": ".py",
   "mimetype": "text/x-python",
   "name": "python",
   "nbconvert_exporter": "python",
   "pygments_lexer": "ipython3",
   "version": "3.6.8"
  }
 },
 "nbformat": 4,
 "nbformat_minor": 1
}
